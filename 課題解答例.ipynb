{
 "cells": [
  {
   "cell_type": "markdown",
   "metadata": {
    "internals": {
     "slide_helper": "subslide_end",
     "slide_type": "subslide"
    },
    "slide_helper": "subslide_end",
    "slideshow": {
     "slide_type": "slide"
    }
   },
   "source": [
    "# 「同期・引き込み現象について」課題【解答例】"
   ]
  },
  {
   "cell_type": "markdown",
   "metadata": {
    "internals": {
     "slide_helper": "subslide_end",
     "slide_type": "subslide"
    },
    "slide_helper": "slide_end",
    "slideshow": {
     "slide_type": "subslide"
    }
   },
   "source": [
    "以下はPythonを使って同期現象を蔵本モデルに従ってシミュレーションしてみた結果である。IPythonNotebookが使えるなら、このファイルをダウンロードしてスライダーを動かして適当なパラメータを代入した上でシミュレーションを試してみよ。"
   ]
  },
  {
   "cell_type": "markdown",
   "metadata": {
    "internals": {
     "slide_helper": "subslide_end",
     "slide_type": "subslide"
    },
    "slide_helper": "slide_end",
    "slideshow": {
     "slide_type": "slide"
    }
   },
   "source": [
    "- 2つのメトロノームを用いて、実際に同期現象を確認せよ。どのような実験の設定にすると同期を見ることができるだろうか?"
   ]
  },
  {
   "cell_type": "markdown",
   "metadata": {
    "internals": {
     "slide_helper": "subslide_end",
     "slide_type": "subslide"
    },
    "slide_helper": "slide_end",
    "slideshow": {
     "slide_type": "slide"
    }
   },
   "source": [
    "(略)"
   ]
  },
  {
   "cell_type": "markdown",
   "metadata": {
    "internals": {
     "slide_helper": "subslide_end",
     "slide_type": "subslide"
    },
    "slide_helper": "slide_end",
    "slideshow": {
     "slide_type": "slide"
    }
   },
   "source": [
    "- 同期現象をうまく説明する単純なモデルとして、蔵本モデルと呼ばれる、平均場を仮定し相互作用が位相差の正弦関数で表されるようなものが考えられている:  \n",
    "$$\\dot{\\theta_{i}} = \\omega_{i} + \\frac{K}{N}\\sum_{i=1}^{N}\\sin(\\theta_{j}-\\theta_{i}),\\ \\ \\ i=1,2,\\dots ,N$$  \n",
    "この蔵本モデルにおいて$N=2$として、$\\omega_{i},K$に適当なパラメータと初期値$\\theta_{1}(0), \\theta_{2}(0), \\dot{\\theta_{1}}, \\dot{\\theta_{2}}$を定め、ひとつの場合について相空間上に各時刻での位置を振動子に関して色を変えて重ねてプロットしてみよ。得られた軌跡の定性的な特徴は何であろうか?"
   ]
  },
  {
   "cell_type": "code",
   "execution_count": 8,
   "metadata": {
    "collapsed": false,
    "internals": {
     "slide_helper": "subslide_end",
     "slide_type": "subslide"
    },
    "slide_helper": "slide_end",
    "slideshow": {
     "slide_type": "slide"
    }
   },
   "outputs": [],
   "source": [
    "%matplotlib inline\n",
    "import matplotlib.pyplot as plt\n",
    "from IPython.html.widgets import interactive\n",
    "from IPython.html import widgets\n",
    "from IPython.display import display\n",
    "import numpy as np\n",
    "\n",
    "pi = np.pi\n",
    "sin = np.sin\n",
    "exp = np.exp\n",
    "h = 0.1\n",
    "\n",
    "def pipi(rad):\n",
    "    return (rad + pi) % (2*pi) - pi\n",
    "\n",
    "def master(after, widget=True, parameter=None):\n",
    "    def main(params):\n",
    "        theta1 = [[params[0],], [params[2],]]\n",
    "        theta2 = [[params[1],], [params[3],]]\n",
    "        omega = (params[4], params[5])\n",
    "        K = params[6]\n",
    "        T = params[7]\n",
    "        t = 1\n",
    "        while t < T:\n",
    "            theta1[0].append((theta1[0][-1] + theta1[1][-1]*h))\n",
    "            theta2[0].append((theta2[0][-1] + theta2[1][-1]*h))\n",
    "            theta1[1].append(omega[0] + (K/2.)*sin(theta2[0][-1]-theta1[0][-1]))\n",
    "            theta2[1].append(omega[1] + (K/2.)*sin(theta1[0][-1]-theta2[0][-1]))\n",
    "            t += 1\n",
    "        result = [theta1, theta2, omega, K, T]\n",
    "        return after(*result)\n",
    "    \n",
    "    # assgin values\n",
    "    def assign(th1=0.1, th2=0.5, v1=1., v2=1., ome1=1., ome2=1.1, K=0.09, T=100):\n",
    "        global params\n",
    "        params = [th1, th2, v1, v2, ome1, ome2, K, T]\n",
    "    \n",
    "    if widget:\n",
    "        var = {\n",
    "            \"th1\": (-3.14, 3.14, 0.01),\n",
    "            \"th2\": (-3.14, 3.14, 0.01),\n",
    "            \"v1\": (-6., 6.),\n",
    "            \"v2\": (-6., 6.),\n",
    "            \"ome1\": (-2., 2., 0.01),\n",
    "            \"ome2\": (-2., 2., 0.01),\n",
    "            \"K\": (-1., 1., 0.01),\n",
    "            \"T\": (50, 2000, 50),\n",
    "        }\n",
    "\n",
    "        # Put Widgets\n",
    "        w = interactive(assign, **var)\n",
    "        button = widgets.Button(description=\"Click Me!\")\n",
    "        display(w)\n",
    "        display(button)\n",
    "\n",
    "        def on_button_clicked(b):\n",
    "            print(\"Simulation Start...\")\n",
    "            print(\"param {0}\".format(params))\n",
    "            main(params)\n",
    "\n",
    "        button.on_click(on_button_clicked)\n",
    "    else:\n",
    "        return main(parameter)"
   ]
  },
  {
   "cell_type": "code",
   "execution_count": 9,
   "metadata": {
    "collapsed": false,
    "internals": {
     "slide_helper": "subslide_end",
     "slide_type": "subslide"
    },
    "slide_helper": "slide_end",
    "slideshow": {
     "slide_type": "slide"
    }
   },
   "outputs": [
    {
     "name": "stdout",
     "output_type": "stream",
     "text": [
      "Simulation Start...\n",
      "param [0.1, 0.5, 1.0, 1.0, 1.0, 1.1, 0.2, 1050]\n"
     ]
    },
    {
     "data": {
      "image/png": "[encoded data removed]",
      "text/plain": [
       "<matplotlib.figure.Figure at 0x7f5614464390>"
      ]
     },
     "metadata": {},
     "output_type": "display_data"
    }
   ],
   "source": [
    "def simple_plot(theta1, theta2, omega, K, T):\n",
    "    fig = plt.figure(figsize=(8, 6))\n",
    "    ax = fig.add_subplot(111)\n",
    "    ax.plot(range(T), map(pipi, theta1[0]))\n",
    "    ax.plot(range(T), map(pipi, theta2[0]))\n",
    "    ax.set_xlabel(r'$t$')\n",
    "    ax.set_ylabel(r'$\\theta$')\n",
    "    plt.show()\n",
    "\n",
    "master(simple_plot)"
   ]
  },
  {
   "cell_type": "markdown",
   "metadata": {
    "internals": {
     "slide_helper": "subslide_end",
     "slide_type": "subslide"
    },
    "slide_helper": "slide_end",
    "slideshow": {
     "slide_type": "slide"
    }
   },
   "source": [
    "$\\theta_{1}-\\theta_{2}$(位相差)の時間プロット($-\\pi \\le \\theta_{i}\\le \\pi$とする)"
   ]
  },
  {
   "cell_type": "code",
   "execution_count": 10,
   "metadata": {
    "collapsed": false,
    "internals": {
     "slide_helper": "subslide_end",
     "slide_type": "subslide"
    },
    "slide_helper": "slide_end",
    "slideshow": {
     "slide_type": "slide"
    }
   },
   "outputs": [
    {
     "name": "stdout",
     "output_type": "stream",
     "text": [
      "Simulation Start...\n",
      "param [0.1, 0.5, 1.0, 1.0, 1.0, 1.1, 0.75, 2000]\n"
     ]
    },
    {
     "data": {
      "image/png": "[encoded data removed]",
      "text/plain": [
       "<matplotlib.figure.Figure at 0x7f56140ea6d0>"
      ]
     },
     "metadata": {},
     "output_type": "display_data"
    }
   ],
   "source": [
    "def phase_difference(theta1, theta2, omega, K, T):\n",
    "    fig = plt.figure(figsize=(8, 6))\n",
    "    ax = fig.add_subplot(111)\n",
    "    ax.plot(range(T), [pipi(t1-t2) for t1,t2 in zip(theta1[0], theta2[0])])\n",
    "    ax.plot([0, T], [0]*2, '--')\n",
    "    ax.plot([0, T], [pi]*2, '--')\n",
    "    ax.plot([0, T], [-pi]*2, '--')\n",
    "    ax.set_xlabel(r'$t$')\n",
    "    ax.set_ylabel(r'$\\theta_{1} - \\theta_{2}$')\n",
    "    plt.show()\n",
    "\n",
    "master(phase_difference)"
   ]
  },
  {
   "cell_type": "markdown",
   "metadata": {
    "internals": {
     "slide_helper": "subslide_end",
     "slide_type": "subslide"
    },
    "slide_helper": "slide_end",
    "slideshow": {
     "slide_type": "slide"
    }
   },
   "source": [
    "相空間上での振る舞い"
   ]
  },
  {
   "cell_type": "code",
   "execution_count": 11,
   "metadata": {
    "collapsed": false,
    "internals": {
     "slide_helper": "subslide_end",
     "slide_type": "subslide"
    },
    "slide_helper": "slide_end",
    "slideshow": {
     "slide_type": "slide"
    }
   },
   "outputs": [
    {
     "name": "stdout",
     "output_type": "stream",
     "text": [
      "Simulation Start...\n",
      "param [0.1, 0.5, 1.0, 1.0, 1.0, 1.1, 0.1, 1800]\n"
     ]
    },
    {
     "data": {
      "image/png": "[encoded data removed]",
      "text/plain": [
       "<matplotlib.figure.Figure at 0x7f5614379910>"
      ]
     },
     "metadata": {},
     "output_type": "display_data"
    }
   ],
   "source": [
    "def phase_space(theta1, theta2, omega, K, T):\n",
    "    fig = plt.figure(figsize=(8, 6))\n",
    "    ax = fig.add_subplot(111)\n",
    "    t_use = int(T/3)\n",
    "    ax.scatter(map(pipi, theta1[0][-t_use:]), theta1[1][-t_use:], color='r')\n",
    "    ax.scatter(map(pipi, theta2[0][-t_use:]), theta2[1][-t_use:], color='b')\n",
    "    ax.set_xlabel(r'$\\theta$')\n",
    "    ax.set_ylabel(r'$\\dot{\\theta}$')\n",
    "    plt.show()\n",
    "\n",
    "master(phase_space)"
   ]
  },
  {
   "cell_type": "markdown",
   "metadata": {
    "internals": {
     "slide_helper": "subslide_end",
     "slide_type": "subslide"
    },
    "slide_helper": "slide_end",
    "slideshow": {
     "slide_type": "slide"
    }
   },
   "source": [
    "- 適当なパラメータを選ぶと、ある有限時間の後に2つの振動子は同期する。同期している状態と、そうでない状態を見分けるのに用いられる指標として、振動子の位相を円周上に考えた時のその重心の位置が挙げられる。2つの振動子が完全に同相同期している時には、この重心の円の中心からの距離$R$は円の半径に等しくなるはずである。円運動している円の半径を$1$として$K$を横軸、縦軸に$R$をとって、同期相転移が起こる相転移点$K_{c}$を概算せよ。"
   ]
  },
  {
   "cell_type": "markdown",
   "metadata": {
    "internals": {
     "slide_helper": "subslide_end",
     "slide_type": "subslide"
    },
    "slide_helper": "slide_end",
    "slideshow": {
     "slide_type": "slide"
    }
   },
   "source": [
    "オーダーパラメーター(秩序変数)$R$を求める。蔵本先生の定義したオーダーパラメータは\n",
    "\n",
    "$$Re^{i\\phi} = \\frac{1}{N}\\sum_{j=1}^{N} e^{i\\theta_{j}}$$\n",
    "\n",
    "ここで、$\\phi$はすべての振動子の位相の平均であり、$R$は振動子の個数のコヒーレンスを表している。\n",
    "\n",
    "2振動子の今の場合、上のオーダーパラメータをあらわに書くと\n",
    "\n",
    "$$R = \\left| \\frac{1}{2} (e^{i\\theta_{1}} + e^{i\\theta_{2}}) \\right|$$\n",
    "\n",
    "のようになる。"
   ]
  },
  {
   "cell_type": "code",
   "execution_count": 12,
   "metadata": {
    "collapsed": false,
    "internals": {
     "slide_helper": "subslide_end",
     "slide_type": "subslide"
    },
    "slide_helper": "slide_end",
    "slideshow": {
     "slide_type": "slide"
    }
   },
   "outputs": [
    {
     "name": "stdout",
     "output_type": "stream",
     "text": [
      "Simulation Start...\n",
      "param [0.1, 0.5, 1.0, 1.0, 1.0, 1.1, 0.09, 2000]\n"
     ]
    },
    {
     "data": {
      "image/png": "[encoded data removed]",
      "text/plain": [
       "<matplotlib.figure.Figure at 0x7f561415e5d0>"
      ]
     },
     "metadata": {},
     "output_type": "display_data"
    }
   ],
   "source": [
    "def order_parameter2(theta1, theta2, omega, K, T):\n",
    "    fig = plt.figure(figsize=(8, 6))\n",
    "    ax = fig.add_subplot(111)\n",
    "    th1 = np.array(map(pipi, theta1[0]))\n",
    "    th2 = np.array(map(pipi, theta2[0]))\n",
    "    R = abs(0.5 * (exp(1j*th1) + exp(1j*th2)))\n",
    "    ax.plot(range(T), R)\n",
    "    ax.set_xlabel(r'$t$')\n",
    "    ax.set_ylabel(r'$R$')\n",
    "    plt.show()\n",
    "\n",
    "master(order_parameter2)"
   ]
  },
  {
   "cell_type": "code",
   "execution_count": 13,
   "metadata": {
    "collapsed": false,
    "internals": {
     "slide_helper": "subslide_end",
     "slide_type": "subslide"
    },
    "slide_helper": "slide_end",
    "slideshow": {
     "slide_type": "slide"
    }
   },
   "outputs": [],
   "source": [
    "def K_R(r_function):\n",
    "    def assign2(ome1=1., ome2=1.1, Kmax=0.2, T=10000, t_ave=3000):\n",
    "        global parameter\n",
    "        parameter = [0.1, 0.5, 1., 1., ome1, ome2, Kmax, T, t_ave]\n",
    "\n",
    "    var = {\n",
    "        \"ome1\": (-2., 2., 0.01),\n",
    "        \"ome2\": (-2., 2., 0.01),\n",
    "        \"Kmax\": (0., 0.4, 0.001),\n",
    "        \"T\": (1000, 20000, 1000),\n",
    "        \"t_ave\" : (100, 5000, 100),\n",
    "    }\n",
    "\n",
    "    # Put Widgets\n",
    "    w = interactive(assign2, **var)\n",
    "    button = widgets.Button(description=\"Click Me!\")\n",
    "    display(w)\n",
    "    display(button)\n",
    "\n",
    "    def on_button_clicked2(b):\n",
    "        print(\"Simulation Start...\")\n",
    "        print(\"param {0}\".format(parameter))\n",
    "        Rs = []\n",
    "        T = parameter[7]\n",
    "        t_ave = parameter[8]\n",
    "        K = np.linspace(0., parameter[6], 100)\n",
    "        for k in K:\n",
    "            var = parameter[0:6] + [k, T]\n",
    "            def after(theta1, theta2, omega, K, T):\n",
    "                th1 = np.array(map(pipi, theta1[0]))\n",
    "                th2 = np.array(map(pipi, theta2[0]))\n",
    "                r = r_function(th1, th2)\n",
    "                return np.average(r[-t_ave:])\n",
    "\n",
    "            Rs.append(master(after, widget=False, parameter=var))\n",
    "\n",
    "        fig = plt.figure(figsize=(8, 6))\n",
    "        ax = fig.add_subplot(111)\n",
    "        ax.plot(K, Rs)\n",
    "        ax.set_xlabel(r'$K$')\n",
    "        ax.set_ylabel(r'$R$')\n",
    "        plt.show()\n",
    "\n",
    "    button.on_click(on_button_clicked2)"
   ]
  },
  {
   "cell_type": "code",
   "execution_count": 14,
   "metadata": {
    "collapsed": false,
    "internals": {
     "slide_type": "subslide"
    },
    "slideshow": {
     "slide_type": "slide"
    }
   },
   "outputs": [
    {
     "name": "stdout",
     "output_type": "stream",
     "text": [
      "Simulation Start...\n",
      "param [0.1, 0.5, 1.0, 1.0, 1.0, 1.1, 0.2, 10000, 3000]\n"
     ]
    },
    {
     "data": {
      "image/png": "[encoded data removed]",
      "text/plain": [
       "<matplotlib.figure.Figure at 0x7f5613e10f10>"
      ]
     },
     "metadata": {},
     "output_type": "display_data"
    }
   ],
   "source": [
    "def r_function2(th1, th2):\n",
    "    return abs(0.5 * (np.exp(1j*th1) + np.exp(1j*th2)))\n",
    "\n",
    "K_R(r_function2)"
   ]
  },
  {
   "cell_type": "markdown",
   "metadata": {
    "internals": {},
    "slideshow": {
     "slide_type": "skip"
    }
   },
   "source": [
    "なぜ$K=0$で$R=0$とならないか?$\\Rightarrow$振動子の数が2個であることから分かる。そもそものオーダーパラメータの定義としては$N\\rightarrow \\infty$の極限を考えていることに注意。"
   ]
  }
 ],
 "metadata": {
  "kernelspec": {
   "display_name": "Python 2",
   "language": "python",
   "name": "python2"
  },
  "language_info": {
   "codemirror_mode": {
    "name": "ipython",
    "version": 2
   },
   "file_extension": ".py",
   "mimetype": "text/x-python",
   "name": "python",
   "nbconvert_exporter": "python",
   "pygments_lexer": "ipython2",
   "version": "2.7.6"
  }
 },
 "nbformat": 4,
 "nbformat_minor": 0
}
