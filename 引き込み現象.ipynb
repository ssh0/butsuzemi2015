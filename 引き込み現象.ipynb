{
 "metadata": {
  "name": "",
  "signature": "sha256:2e9d8573d0efc7050a17fd9b9dab70e30e073705679954a28be1c9238051c9d6"
 },
 "nbformat": 3,
 "nbformat_minor": 0,
 "worksheets": [
  {
   "cells": [
    {
     "cell_type": "markdown",
     "metadata": {
      "internals": {
       "slide_helper": "subslide_end",
       "slide_type": "subslide"
      },
      "slide_helper": "slide_end",
      "slideshow": {
       "slide_type": "slide"
      }
     },
     "source": [
      "# \u540c\u671f\u73fe\u8c61\u30fb\u5f15\u304d\u8fbc\u307f\u73fe\u8c61\u306b\u3064\u3044\u3066\n",
      "\n",
      "\n",
      "\n",
      "<div align=\"right\">2015\u5e74\u5ea6\u7269\u7406\u5b66\u7814\u7a76\u30bc\u30df\u30ca\u30fc\u30eb\u8cc7\u6599</div>"
     ]
    },
    {
     "cell_type": "markdown",
     "metadata": {
      "internals": {
       "slide_helper": "subslide_end",
       "slide_type": "subslide"
      },
      "slide_helper": "slide_end",
      "slideshow": {
       "slide_type": "slide"
      }
     },
     "source": [
      "## \u540c\u671f\u73fe\u8c61\n",
      "\n",
      "\u5c11\u3057\u3060\u3051\u632f\u52d5\u6570\u306e\u7570\u306a\u308b2\u3064\u306e\u30e1\u30c8\u30ed\u30ce\u30fc\u30e0\u3092\u63fa\u308c\u3084\u3059\u3044\u53f0\u306e\u4e0a\u306b\u7f6e\u3044\u3066\u632f\u52d5\u3055\u305b\u308b\u3068\u3001  \n",
      "2\u3064\u306e\u30e1\u30c8\u30ed\u30ce\u30fc\u30e0\u304c\u30bf\u30a4\u30df\u30f3\u30b0\u3092\u5408\u308f\u305b\u3066\u632f\u52d5\u3059\u308b\u3088\u3046\u306b\u306a\u308b\n",
      "\n",
      "\u305d\u308c\u305e\u308c\u5225\u306e\u632f\u52d5\u6570\u3092\u3082\u3064\u3082\u306e\u304c\u76f8\u4e92\u306b\u4f5c\u7528\u3057\u3066\u3001\u4e00\u3064\u306e\u5468\u6ce2\u6570\u3001\u4f4d\u76f8\u3067\u904b\u52d5\u3059\u308b\u3088\u3046\u306b\u306a\u308b\n"
     ]
    },
    {
     "cell_type": "markdown",
     "metadata": {
      "internals": {
       "slide_helper": "subslide_end",
       "slide_type": "subslide"
      },
      "slide_helper": "slide_end",
      "slideshow": {
       "slide_type": "slide"
      }
     },
     "source": [
      "### \u540c\u76f8\u540c\u671f\u3068\u9006\u76f8\u540c\u671f\n",
      "\n",
      "- \u4f4d\u76f8  \n",
      "    - \u30ea\u30ba\u30e0\u73fe\u8c61\u4e00\u822c\u306b\u7528\u3044\u308b\u3053\u3068\u306e\u3067\u304d\u308b\u8a00\u8449\n",
      "    - \u300c\u30ea\u30ba\u30e0\u304c\u3069\u308c\u307b\u3069\u9032\u3093\u3067\u3044\u308b\u304b\u300d\n",
      "    - \u30ea\u30ba\u30e0=\u5186\u904b\u52d5\u3001\u4f4d\u76f8=\u89d2\u5ea6\n",
      "\n",
      "\n",
      "- \u540c\u76f8\u540c\u671f(\u540c\u3058\u4f4d\u76f8): \u30e1\u30c8\u30ed\u30ce\u30fc\u30e0\u304c\u540c\u3058\u65b9\u5411\u306b\u632f\u308c\u308b\n",
      "- \u9006\u76f8\u540c\u671f(\u53cd\u5bfe\u306e\u4f4d\u76f8): \u30e1\u30c8\u30ed\u30ce\u30fc\u30e0\u304c\u9006\u306e\u65b9\u5411\u306b\u632f\u308c\u308b\n",
      "\n",
      "\u3069\u306e\u3088\u3046\u306a\u6761\u4ef6\u304c\u3053\u306e2\u3064\u3092\u5206\u3051\u3066\u3044\u308b\u304b?"
     ]
    },
    {
     "cell_type": "markdown",
     "metadata": {
      "internals": {
       "slide_helper": "subslide_end",
       "slide_type": "subslide"
      },
      "slide_helper": "slide_end",
      "slideshow": {
       "slide_type": "slide"
      }
     },
     "source": [
      "## \u3055\u307e\u3056\u307e\u306a\u3068\u3053\u308d\u3067\u898b\u3089\u308c\u308b\u540c\u671f\u73fe\u8c61\n",
      "\n",
      "- \u632f\u308a\u5b50 (\u30db\u30a4\u30d8\u30f3\u30b9, 1665\u5e74)\n",
      "- \u30e1\u30c8\u30ed\u30ce\u30fc\u30e0\n",
      "    - [Synchronization of four metronomes on a suspension bridge](https://www.youtube.com/watch?v=ZMApCadGSt0)(\u540c\u4f4d\u76f8)\n",
      "    - [\u30e1\u30c8\u30ed\u30ce\u30fc\u30e0\u540c\u671f (32\u500b)](https://www.youtube.com/watch?v=JWToUATLGzs)(\u540c\u4f4d\u76f8)\n",
      "    - [\u30e1\u30c8\u30ed\u30ce\u30fc\u30e0\u540c\u671f\u306e\u5206\u5c90](https://www.youtube.com/watch?v=DKxdtdHExO4)(\u540c\u4f4d\u76f8\u2192\u9006\u4f4d\u76f8)\n",
      "- \u30d1\u30a4\u30d7\u30aa\u30eb\u30ac\u30f3\u306e\u97f3\n",
      "- \u30ed\u30a6\u30bd\u30af\u306e\u708e\n",
      "    - [In-phase Synchronization of Oscillating Candle Flame (speed x0.15) ](https://www.youtube.com/watch?v=ndNBSgUd-vU)(\u540c\u4f4d\u76f8)\n",
      "    - [Anti-phase Synchronization of Oscillating Candle Flame (speed x0.15) ](https://www.youtube.com/watch?v=ld9KHCQ22-4)(\u9006\u4f4d\u76f8)\n",
      "    \n",
      "    "
     ]
    },
    {
     "cell_type": "markdown",
     "metadata": {
      "internals": {
       "slide_helper": "subslide_end",
       "slide_type": "subslide"
      },
      "slide_helper": "slide_end",
      "slideshow": {
       "slide_type": "slide"
      }
     },
     "source": [
      "- \u30da\u30c3\u30c8\u30dc\u30c8\u30eb\u304b\u3089\u843d\u3061\u308b\u6c34\n",
      "    - [\u30da\u30c3\u30c8\u30dc\u30c8\u30eb\u540c\u671f (2\u500b\uff0c\u540c\u4f4d\u76f8) ](https://www.youtube.com/watch?v=Vvs14DUixIM)(\u540c\u4f4d\u76f8)\n",
      "- \u30b3\u30aa\u30ed\u30ae\u3001\u30ab\u30a8\u30eb\u306e\u767a\u58f0\n",
      "    - [\u30b3\u30aa\u30ed\u30ae\u306e\u9cf4\u304d\u58f0](https://www.youtube.com/watch?v=j8f2KRavCyQ)(\u540c\u4f4d\u76f8)\n",
      "    - [\u65e5\u66ae\u308c\u306e\u7530\u3093\u307c\u3000\u30ab\u30a8\u30eb\u306e\u5408\u5531\u30002013\uff0e06\uff0e09 ](https://www.youtube.com/watch?v=dxSNPsS5XOs)(\u9006\u4f4d\u76f8)\n",
      "- \u4f53\u5185\u6642\u8a08\n",
      "- \u63c3\u3046\u62cd\u624b\n",
      "- \u30db\u30bf\u30eb\u306e\u96c6\u56e3\u767a\u5149\n",
      "    - [\u306e\u307b\u307b\u3093\u03b1\u3055\u3093 \u300c\u540c\u671f\u767a\u5149\u3059\u308b\u30db\u30bf\u30eb\u300d\u30001/15\u79d2 ](https://www.youtube.com/watch?v=HQ2YLH6S1Co)"
     ]
    },
    {
     "cell_type": "markdown",
     "metadata": {
      "internals": {
       "slide_helper": "subslide_end",
       "slide_type": "subslide"
      },
      "slide_helper": "slide_end",
      "slideshow": {
       "slide_type": "slide"
      }
     },
     "source": [
      "### \u30e2\u30c7\u30eb\u5316\u306b\u5411\u3051\u3066 \u2015 \u540c\u671f\u73fe\u8c61\u3092\u751f\u307f\u51fa\u3059\u6a5f\u69cb\n",
      "\n",
      "- \u7cfb\u5168\u4f53\u304c\u500b\u306b\u5bfe\u3057\u3066\u5354\u8abf\u3059\u308b\u3088\u3046\u50cd\u304d\u304b\u3051\u308b\u52b9\u679c(\u6b63\u306e\u30d5\u30a3\u30fc\u30c9\u30d0\u30c3\u30af)\n",
      "    - \u63c3\u3048\u3070\u63c3\u3046\u307b\u3069\u52a0\u901f\u5ea6\u7684\u306b\u5f37\u304f\u306a\u308b\n",
      "\n",
      "- \u81ea\u7136\u5468\u6ce2\u6570\u306b\u5f93\u3046\u3088\u3046\u306b\u3055\u305b\u308b\u52b9\u679c(\u8ca0\u306e\u30d5\u30a3\u30fc\u30c9\u30d0\u30c3\u30af)\n",
      "\n",
      "\u6b63\u306e\u30d5\u30a3\u30fc\u30c9\u30d0\u30c3\u30af\u304c\u5f37\u304f\u50cd\u304f\u3068\u304d\u540c\u671f\u73fe\u8c61\u304c\u8d77\u3053\u308a\u3001\u8ca0\u306e\u30d5\u30a3\u30fc\u30c9\u30d0\u30c3\u30af\u306e\u307b\u3046\u304c\u652f\u914d\u7684\u306a\u3068\u304d\u3001\u540c\u671f\u73fe\u8c61\u306f\u767a\u751f\u3057\u306a\u3044"
     ]
    },
    {
     "cell_type": "markdown",
     "metadata": {
      "internals": {
       "slide_helper": "subslide_end",
       "slide_type": "subslide"
      },
      "slide_helper": "slide_end",
      "slideshow": {
       "slide_type": "slide"
      }
     },
     "source": [
      "### \u540c\u671f\u76f8\u8ee2\u79fb\n",
      "\n",
      "- \u76f8\u8ee2\u79fb  \n",
      "\u3042\u308b\u30d1\u30e9\u30e1\u30fc\u30bf\u3092\u5909\u3048\u3066\u3044\u3063\u305f\u6642\u306b\u201d\u6025\u306b\u201d\u7cfb\u306e\u6027\u8cea\u304c\u5909\u5316\u3059\u308b\u3088\u3046\u306a\u70b9\u3092**\u81e8\u754c\u70b9**\u3068\u3088\u3073\u3001\u305d\u306e\u3088\u3046\u306b\u6025\u6fc0\u306b\u6027\u8cea\u3092\u304b\u3048\u308b\u73fe\u8c61\u3092\u76f8\u8ee2\u79fb\u73fe\u8c61\u3068\u3088\u3076\u3002\n",
      "\n",
      "\u540c\u671f\u73fe\u8c61\u306b\u304a\u3051\u308b\u81e8\u754c\u70b9\u306f\u6b63\u3068\u8ca0\u306e\u30d5\u30a3\u30fc\u30c9\u30d0\u30c3\u30af\u306e\u30d0\u30e9\u30f3\u30b9\u3067\u6c7a\u307e\u308b"
     ]
    },
    {
     "cell_type": "markdown",
     "metadata": {
      "internals": {
       "slide_helper": "subslide_end",
       "slide_type": "subslide"
      },
      "slide_helper": "slide_end",
      "slideshow": {
       "slide_type": "slide"
      }
     },
     "source": [
      "### \u30e2\u30c7\u30eb\u5316\n",
      "\n",
      "- \u5e73\u5747\u5834\u30e2\u30c7\u30eb\n",
      "    - \u305d\u308c\u305e\u308c\u306e\u69cb\u6210\u8981\u7d20\u304c\u3059\u3079\u3066\u306e\u4ed6\u306e\u69cb\u6210\u8981\u7d20\u3068\u540c\u3058\u5f37\u5ea6\u3067\u7d50\u5408\u3057\u3066\u3044\u308b\n",
      "    \n",
      "- \u30a6\u30a3\u30f3\u30d5\u30ea\u306e\u4f4d\u76f8\u30e2\u30c7\u30eb\n",
      "    - \u3059\u3079\u3066\u306e\u632f\u52d5\u5b50\u304c\u4ed6\u306e\u3059\u3079\u3066\u306e\u632f\u52d5\u5b50\u3068\u7b49\u3057\u304f\u76f8\u4e92\u4f5c\u7528\u3059\u308b(\u5e73\u5747\u5834\u30e2\u30c7\u30eb)\n",
      "    - \u632f\u52d5\u5b50\u306e\u81ea\u7136\u5468\u671f\u304c\u5358\u7d14\u306a\u7d71\u8a08\u6cd5\u5247\u3067\u3070\u3089\u3064\u3044\u3066\u3044\u308b\n",
      "    - \u76f8\u4e92\u4f5c\u7528\n",
      "        - \u300c\u4f5c\u7528\u529b\u300d\uff65\uff65\uff65\u76f8\u4e92\u4f5c\u7528\u3092\u53ca\u307c\u3059\u5074\u306e\u52b9\u679c\n",
      "        - \u300c\u611f\u53d7\u6027\u300d\uff65\uff65\uff65\u4f5c\u7528\u3092\u53d7\u3051\u53d6\u308b\u5074\u306e\u52b9\u679c\n",
      "    - \u6570\u5024\u7684\u306b\u540c\u671f\u76f8\u8ee2\u79fb\u3092\u793a\u3057\u305f\n",
      "        \n",
      "- \u8535\u672c\u30e2\u30c7\u30eb\n",
      "    - \u30a6\u30a3\u30f3\u30d5\u30ea\u306e\u30e2\u30c7\u30eb\u306e\u4fee\u6b63\u7248  \n",
      "    $$\\dot{\\theta_{i}} = \\omega_{i} + \\frac{K}{N}\\sum^{N}_{j=1}\\sin (\\theta_{j}-\\theta_{i}), \\ \\ i=1,2, \\dots ,N$$\n",
      "    - \u8a08\u7b97\u306b\u3088\u3063\u3066\u540c\u671f\u76f8\u8ee2\u79fb\u3092\u793a\u3057\u305f"
     ]
    },
    {
     "cell_type": "markdown",
     "metadata": {
      "internals": {
       "slide_helper": "subslide_end",
       "slide_type": "subslide"
      },
      "slide_helper": "slide_end",
      "slideshow": {
       "slide_type": "slide"
      }
     },
     "source": [
      "## \u8a73\u8aac: \u8535\u672c\u30e2\u30c7\u30eb\n",
      "\n",
      "$$\\dot{\\theta_{i}} = \\omega_{i} + \\frac{K}{N}\\sum^{N}_{j=1}\\sin (\\theta_{j}-\\theta_{i}), \\ \\ i=1,2, \\dots ,N$$\n",
      "\n",
      "<div align=\"center\"><table>\n",
      "<tr><td>$N$</td><td>\u96c6\u56e3\u306b\u542b\u307e\u308c\u308b\u632f\u52d5\u5b50\u306e\u7dcf\u6570</td></tr>\n",
      "<tr><td>$\\theta_{i}$</td><td>$i$\u756a\u76ee\u306e\u632f\u52d5\u5b50\u306e\u4f4d\u76f8</td></tr>\n",
      "<tr><td>$\\dot{\\theta_{i}}$</td><td>$\\theta_{i}$\u306e\u5909\u5316\u901f\u5ea6</td></tr>\n",
      "<tr><td>$\\omega_{i}$</td><td>\u632f\u52d5\u5b50\u306e\u81ea\u7136\u5468\u6ce2\u6570(\u56fa\u6709\u632f\u52d5\u6570)  \n",
      "(\u91e3\u9418\u578b\u306e\u5206\u5e03\u306b\u5f93\u3063\u3066\u30e9\u30f3\u30c0\u30e0\u306b\u9078\u3070\u308c\u308b)</td></tr>\n",
      "<tr><td>$K$</td><td>\u632f\u52d5\u5b50\u9593\u306e\u7d50\u5408\u5f37\u5ea6</td></tr>\n",
      "</table></div>\n",
      "\n",
      "- 2\u3064\u306e\u632f\u52d5\u5b50\u9593\u306b\u50cd\u304f\u76f8\u4e92\u4f5c\u7528\u306f\u4f4d\u76f8\u5dee\u306e\u6b63\u5f26\u95a2\u6570$\\sin(\\theta_{j}-\\theta_{i})$\u306b\u6bd4\u4f8b\u3057\u3001  \n",
      "\u4ed6\u306e\u3059\u3079\u3066\u306e\u632f\u52d5\u5b50\u306b\u3088\u308b\u76f8\u4e92\u4f5c\u7528\u304c\u50cd\u3044\u3066\u3044\u308b\n",
      "\n",
      "- $K$\u304c\u3042\u308b\u5024\u4ee5\u4e0b\u3067\u306f\u96c6\u56e3\u632f\u52d5\u306f\u5b58\u5728\u305b\u305a\u3001\u305d\u306e\u5024\u3092\u8d85\u3048\u308b\u3068\u96c6\u56e3\u632f\u52d5\u304c\u767a\u751f\u3059\u308b\u3053\u3068\u304c\u6570\u5b66\u7684\u306b\u793a\u3055\u308c\u308b"
     ]
    },
    {
     "cell_type": "markdown",
     "metadata": {
      "internals": {
       "slide_helper": "subslide_end",
       "slide_type": "subslide"
      },
      "slide_helper": "slide_end",
      "slideshow": {
       "slide_type": "slide"
      }
     },
     "source": [
      "## \u53c2\u8003\u6587\u732e\n",
      "\n",
      "- \u8535\u672c\u7531\u7d00,\u300e\u975e\u7dda\u5f62\u79d1\u5b66 \u540c\u671f\u3059\u308b\u4e16\u754c\u300f,\u96c6\u82f1\u793e,2014."
     ]
    }
   ],
   "metadata": {}
  }
 ]
}