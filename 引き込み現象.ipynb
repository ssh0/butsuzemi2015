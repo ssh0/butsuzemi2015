{
 "cells": [
  {
   "cell_type": "markdown",
   "metadata": {
    "internals": {
     "slide_helper": "subslide_end",
     "slide_type": "subslide"
    },
    "slide_helper": "slide_end",
    "slideshow": {
     "slide_type": "slide"
    }
   },
   "source": [
    "# 同期現象・引き込み現象について\n",
    "\n",
    "\n",
    "\n",
    "<div align=\"right\">2015年度物理学研究ゼミナール資料</div>"
   ]
  },
  {
   "cell_type": "markdown",
   "metadata": {
    "internals": {
     "slide_helper": "subslide_end",
     "slide_type": "subslide"
    },
    "slide_helper": "slide_end",
    "slideshow": {
     "slide_type": "slide"
    }
   },
   "source": [
    "## 同期現象\n",
    "\n",
    "少しだけ振動数の異なる2つのメトロノームを揺れやすい台の上に置いて振動させると、  \n",
    "2つのメトロノームがタイミングを合わせて振動するようになる\n",
    "\n",
    "それぞれ別の振動数をもつものが相互に作用して、一つの周波数、位相で運動するようになる\n"
   ]
  },
  {
   "cell_type": "markdown",
   "metadata": {
    "internals": {
     "slide_helper": "subslide_end",
     "slide_type": "subslide"
    },
    "slide_helper": "slide_end",
    "slideshow": {
     "slide_type": "slide"
    }
   },
   "source": [
    "### 同相同期と逆相同期\n",
    "\n",
    "- 位相  \n",
    "    - リズム現象一般に用いることのできる言葉\n",
    "    - 「リズムがどれほど進んでいるか」\n",
    "    - リズム=円運動、位相=角度\n",
    "\n",
    "\n",
    "- 同相同期(同じ位相): メトロノームが同じ方向に振れる\n",
    "- 逆相同期(反対の位相): メトロノームが逆の方向に振れる\n",
    "\n",
    "どのような条件がこの2つを分けているか?"
   ]
  },
  {
   "cell_type": "markdown",
   "metadata": {
    "internals": {
     "slide_helper": "subslide_end",
     "slide_type": "subslide"
    },
    "slide_helper": "slide_end",
    "slideshow": {
     "slide_type": "slide"
    }
   },
   "source": [
    "## さまざまなところで見られる同期現象\n",
    "\n",
    "- 振り子 (ホイヘンス, 1665年)\n",
    "- メトロノーム\n",
    "    - [Synchronization of four metronomes on a suspension bridge](https://www.youtube.com/watch?v=ZMApCadGSt0)(同位相)\n",
    "    - [メトロノーム同期 (32個)](https://www.youtube.com/watch?v=JWToUATLGzs)(同位相)\n",
    "    - [メトロノーム同期の分岐](https://www.youtube.com/watch?v=DKxdtdHExO4)(同位相→逆位相)\n",
    "- パイプオルガンの音\n",
    "- ロウソクの炎\n",
    "    - [In-phase Synchronization of Oscillating Candle Flame (speed x0.15) ](https://www.youtube.com/watch?v=ndNBSgUd-vU)(同位相)\n",
    "    - [Anti-phase Synchronization of Oscillating Candle Flame (speed x0.15) ](https://www.youtube.com/watch?v=ld9KHCQ22-4)(逆位相)\n",
    "    \n",
    "    "
   ]
  },
  {
   "cell_type": "markdown",
   "metadata": {
    "internals": {
     "slide_helper": "subslide_end",
     "slide_type": "subslide"
    },
    "slide_helper": "slide_end",
    "slideshow": {
     "slide_type": "slide"
    }
   },
   "source": [
    "- ペットボトルから落ちる水\n",
    "    - [ペットボトル同期 (2個，同位相) ](https://www.youtube.com/watch?v=Vvs14DUixIM)(同位相)\n",
    "- コオロギ、カエルの発声\n",
    "    - [コオロギの鳴き声](https://www.youtube.com/watch?v=j8f2KRavCyQ)(同位相)\n",
    "    - [日暮れの田んぼ　カエルの合唱　2013．06．09 ](https://www.youtube.com/watch?v=dxSNPsS5XOs)(逆位相)\n",
    "- 体内時計\n",
    "- 揃う拍手\n",
    "- ホタルの集団発光\n",
    "    - [のほほんαさん 「同期発光するホタル」　1/15秒 ](https://www.youtube.com/watch?v=HQ2YLH6S1Co)"
   ]
  },
  {
   "cell_type": "markdown",
   "metadata": {
    "internals": {
     "slide_helper": "subslide_end",
     "slide_type": "subslide"
    },
    "slide_helper": "slide_end",
    "slideshow": {
     "slide_type": "slide"
    }
   },
   "source": [
    "### モデル化に向けて ― 同期現象を生み出す機構\n",
    "\n",
    "- 系全体が個に対して協調するよう働きかける効果(正のフィードバック)\n",
    "    - 揃えば揃うほど加速度的に強くなる\n",
    "\n",
    "- 自然周波数に従うようにさせる効果(負のフィードバック)\n",
    "\n",
    "正のフィードバックが強く働くとき同期現象が起こり、負のフィードバックのほうが支配的なとき、同期現象は発生しない"
   ]
  },
  {
   "cell_type": "markdown",
   "metadata": {
    "internals": {
     "slide_helper": "subslide_end",
     "slide_type": "subslide"
    },
    "slide_helper": "slide_end",
    "slideshow": {
     "slide_type": "slide"
    }
   },
   "source": [
    "### 同期相転移\n",
    "\n",
    "- 相転移  \n",
    "あるパラメータを変えていった時に”急に”系の性質が変化するような点を**相転移点**とよび、そのように急激に性質をかえる現象を相転移現象とよぶ。\n",
    "\n",
    "同期現象における臨界点は正と負のフィードバックのバランスで決まる"
   ]
  },
  {
   "cell_type": "markdown",
   "metadata": {
    "internals": {
     "slide_helper": "subslide_end",
     "slide_type": "subslide"
    },
    "slide_helper": "slide_end",
    "slideshow": {
     "slide_type": "slide"
    }
   },
   "source": [
    "### モデル化\n",
    "\n",
    "- 平均場モデル\n",
    "    - それぞれの構成要素がすべての他の構成要素と同じ強度で結合している\n",
    "    \n",
    "- ウィンフリの位相モデル\n",
    "    - すべての振動子が他のすべての振動子と等しく相互作用する(平均場モデル)\n",
    "    - 振動子の自然周期が単純な統計法則でばらついている\n",
    "    - 相互作用\n",
    "        - 「作用力」･･･相互作用を及ぼす側の効果\n",
    "        - 「感受性」･･･作用を受け取る側の効果\n",
    "    - 数値的に同期相転移を示した\n",
    "        \n",
    "- 蔵本モデル\n",
    "    - ウィンフリのモデルの修正版  \n",
    "    $$\\dot{\\theta_{i}} = \\omega_{i} + \\frac{K}{N}\\sum^{N}_{j=1}\\sin (\\theta_{j}-\\theta_{i}), \\ \\ i=1,2, \\dots ,N$$\n",
    "    - 計算によって同期相転移を示した"
   ]
  },
  {
   "cell_type": "markdown",
   "metadata": {
    "internals": {
     "slide_helper": "subslide_end",
     "slide_type": "subslide"
    },
    "slide_helper": "slide_end",
    "slideshow": {
     "slide_type": "slide"
    }
   },
   "source": [
    "## 詳説: 蔵本モデル\n",
    "\n",
    "$$\\dot{\\theta_{i}} = \\omega_{i} + \\frac{K}{N}\\sum^{N}_{j=1}\\sin (\\theta_{j}-\\theta_{i}), \\ \\ i=1,2, \\dots ,N$$\n",
    "\n",
    "<div align=\"center\"><table>\n",
    "<tr><td>$N$</td><td>集団に含まれる振動子の総数</td></tr>\n",
    "<tr><td>$\\theta_{i}$</td><td>$i$番目の振動子の位相</td></tr>\n",
    "<tr><td>$\\dot{\\theta_{i}}$</td><td>$\\theta_{i}$の変化速度</td></tr>\n",
    "<tr><td>$\\omega_{i}$</td><td>振動子の自然周波数(固有振動数)  \n",
    "(釣鐘型の分布に従ってランダムに選ばれる)</td></tr>\n",
    "<tr><td>$K$</td><td>振動子間の結合強度</td></tr>\n",
    "</table></div>\n",
    "\n",
    "- 2つの振動子間に働く相互作用は位相差の正弦関数$\\sin(\\theta_{j}-\\theta_{i})$に比例し、  \n",
    "他のすべての振動子による相互作用が働いている\n",
    "\n",
    "- $K$がある値以下では集団振動は存在せず、その値を超えると集団振動が発生することが数学的に示される"
   ]
  },
  {
   "cell_type": "markdown",
   "metadata": {
    "internals": {
     "slide_helper": "subslide_end",
     "slide_type": "subslide"
    },
    "slide_helper": "slide_end",
    "slideshow": {
     "slide_type": "slide"
    }
   },
   "source": [
    "## 参考文献\n",
    "\n",
    "- 蔵本由紀,『非線形科学 同期する世界』,集英社,2014."
   ]
  }
 ],
 "metadata": {
  "kernelspec": {
   "display_name": "Python 2",
   "language": "python",
   "name": "python2"
  },
  "language_info": {
   "codemirror_mode": {
    "name": "ipython",
    "version": 2
   },
   "file_extension": ".py",
   "mimetype": "text/x-python",
   "name": "python",
   "nbconvert_exporter": "python",
   "pygments_lexer": "ipython2",
   "version": "2.7.6"
  }
 },
 "nbformat": 4,
 "nbformat_minor": 0
}
